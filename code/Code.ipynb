{
 "cells": [
  {
   "cell_type": "code",
   "execution_count": null,
   "source": [
    "!pip install tensorflow==2.3.0\r\n",
    "!pip install gym\r\n",
    "!pip install keras\r\n",
    "!pip install keras-rl2"
   ],
   "outputs": [],
   "metadata": {}
  },
  {
   "cell_type": "code",
   "execution_count": 1,
   "source": [
    "import gym\r\n",
    "import random"
   ],
   "outputs": [],
   "metadata": {}
  },
  {
   "cell_type": "code",
   "execution_count": 2,
   "source": [
    "env=gym.make('Acrobot-v1')\r\n",
    "states = env.observation_space.shape[0]\r\n",
    "actions = env.action_space.n\r\n",
    "actions"
   ],
   "outputs": [
    {
     "output_type": "execute_result",
     "data": {
      "text/plain": [
       "3"
      ]
     },
     "metadata": {},
     "execution_count": 2
    }
   ],
   "metadata": {}
  },
  {
   "cell_type": "code",
   "execution_count": 3,
   "source": [
    "states"
   ],
   "outputs": [
    {
     "output_type": "execute_result",
     "data": {
      "text/plain": [
       "6"
      ]
     },
     "metadata": {},
     "execution_count": 3
    }
   ],
   "metadata": {}
  },
  {
   "cell_type": "code",
   "execution_count": 19,
   "source": [
    "episodes =5\r\n",
    "for episode in range(1, episodes+1):\r\n",
    "  state = env.reset()\r\n",
    "  done = False\r\n",
    "  score = 0\r\n",
    "  while not done:\r\n",
    "    env.render()\r\n",
    "    action = random.choice([0,1])\r\n",
    "    n_state, reward, done, info = env.step(action)\r\n",
    "    score+=reward\r\n",
    "  print('Episode:{} Score:{}'.format(episode,score)) "
   ],
   "outputs": [
    {
     "output_type": "stream",
     "name": "stdout",
     "text": [
      "Episode:1 Score:-500.0\n",
      "Episode:2 Score:-500.0\n",
      "Episode:3 Score:-500.0\n",
      "Episode:4 Score:-500.0\n",
      "Episode:5 Score:-500.0\n"
     ]
    }
   ],
   "metadata": {}
  },
  {
   "cell_type": "code",
   "execution_count": 12,
   "source": [
    "import numpy as np\r\n",
    "from tensorflow.keras.models import Sequential\r\n",
    "from tensorflow.keras.layers import Dense, Flatten\r\n",
    "from tensorflow.keras.optimizers import Adam"
   ],
   "outputs": [],
   "metadata": {}
  },
  {
   "cell_type": "code",
   "execution_count": 13,
   "source": [
    "def build_model(states, actions):\r\n",
    "    model = Sequential()\r\n",
    "    model.add(Flatten(input_shape=(1,states)))\r\n",
    "    model.add(Dense(24,activation='relu'))\r\n",
    "    model.add(Dense(24,activation='relu'))\r\n",
    "    model.add(Dense(actions,activation='linear'))\r\n",
    "    return model"
   ],
   "outputs": [],
   "metadata": {}
  },
  {
   "cell_type": "code",
   "execution_count": 14,
   "source": [
    "model = build_model(states,actions)"
   ],
   "outputs": [],
   "metadata": {}
  },
  {
   "cell_type": "code",
   "execution_count": 15,
   "source": [
    "model.summary()"
   ],
   "outputs": [
    {
     "output_type": "stream",
     "name": "stdout",
     "text": [
      "Model: \"sequential_1\"\n",
      "_________________________________________________________________\n",
      "Layer (type)                 Output Shape              Param #   \n",
      "=================================================================\n",
      "flatten_1 (Flatten)          (None, 6)                 0         \n",
      "_________________________________________________________________\n",
      "dense_3 (Dense)              (None, 24)                168       \n",
      "_________________________________________________________________\n",
      "dense_4 (Dense)              (None, 24)                600       \n",
      "_________________________________________________________________\n",
      "dense_5 (Dense)              (None, 3)                 75        \n",
      "=================================================================\n",
      "Total params: 843\n",
      "Trainable params: 843\n",
      "Non-trainable params: 0\n",
      "_________________________________________________________________\n"
     ]
    }
   ],
   "metadata": {}
  },
  {
   "cell_type": "code",
   "execution_count": 27,
   "source": [
    "from rl.agents import DQNAgent\r\n",
    "from rl.policy import BoltzmannQPolicy\r\n",
    "from rl.memory import SequentialMemory"
   ],
   "outputs": [],
   "metadata": {}
  },
  {
   "cell_type": "code",
   "execution_count": 28,
   "source": [
    "def build_agent(model, actions):\r\n",
    "    policy = BoltzmannQPolicy()\r\n",
    "    memory = SequentialMemory(limit=50000, window_length=1)\r\n",
    "    dqn = DQNAgent(model=model, memory=memory, policy=policy,\r\n",
    "                    nb_actions=actions, nb_steps_warmup=10, target_model_update=1e-2)\r\n",
    "    return dqn"
   ],
   "outputs": [],
   "metadata": {}
  },
  {
   "cell_type": "code",
   "execution_count": 29,
   "source": [
    "dqn = build_agent(model, actions)\r\n",
    "dqn.compile(Adam(lr=1e-3),metrics=['mae'])\r\n",
    "dqn.fit(env, nb_steps=50000, visualize= False, verbose=1)"
   ],
   "outputs": [
    {
     "output_type": "stream",
     "name": "stdout",
     "text": [
      "Training for 50000 steps ...\n",
      "Interval 1 (0 steps performed)\n",
      "10000/10000 [==============================] - 66s 7ms/step - reward: -0.9944\n",
      "56 episodes - episode_reward: -176.143 [-292.000, -112.000] - loss: 0.656 - mae: 25.629 - mean_q: -37.236\n",
      "\n",
      "Interval 2 (10000 steps performed)\n",
      "10000/10000 [==============================] - 62s 6ms/step - reward: -0.9944\n",
      "56 episodes - episode_reward: -178.000 [-467.000, -112.000] - loss: 0.657 - mae: 25.082 - mean_q: -36.510\n",
      "\n",
      "Interval 3 (20000 steps performed)\n",
      "10000/10000 [==============================] - 59s 6ms/step - reward: -0.9942\n",
      "58 episodes - episode_reward: -170.690 [-284.000, -101.000] - loss: 0.743 - mae: 25.425 - mean_q: -37.013\n",
      "\n",
      "Interval 4 (30000 steps performed)\n",
      "10000/10000 [==============================] - 59s 6ms/step - reward: -0.9943\n",
      "57 episodes - episode_reward: -174.298 [-293.000, -115.000] - loss: 0.791 - mae: 25.170 - mean_q: -36.612\n",
      "\n",
      "Interval 5 (40000 steps performed)\n",
      "10000/10000 [==============================] - 59s 6ms/step - reward: -0.9943\n",
      "done, took 305.098 seconds\n"
     ]
    },
    {
     "output_type": "execute_result",
     "data": {
      "text/plain": [
       "<tensorflow.python.keras.callbacks.History at 0x256729b1a90>"
      ]
     },
     "metadata": {},
     "execution_count": 29
    }
   ],
   "metadata": {}
  },
  {
   "cell_type": "code",
   "execution_count": 25,
   "source": [
    "scores = dqn.test(env, nb_episodes=100, visualize= False)\r\n",
    "print(np.mean(scores.history['episode_reward']))"
   ],
   "outputs": [
    {
     "output_type": "stream",
     "name": "stdout",
     "text": [
      "Testing for 100 episodes ...\n",
      "Episode 1: reward: -108.000, steps: 109\n",
      "Episode 2: reward: -86.000, steps: 87\n",
      "Episode 3: reward: -110.000, steps: 111\n",
      "Episode 4: reward: -176.000, steps: 177\n",
      "Episode 5: reward: -74.000, steps: 75\n",
      "Episode 6: reward: -98.000, steps: 99\n",
      "Episode 7: reward: -88.000, steps: 89\n",
      "Episode 8: reward: -76.000, steps: 77\n",
      "Episode 9: reward: -93.000, steps: 94\n",
      "Episode 10: reward: -94.000, steps: 95\n",
      "Episode 11: reward: -91.000, steps: 92\n",
      "Episode 12: reward: -85.000, steps: 86\n",
      "Episode 13: reward: -95.000, steps: 96\n",
      "Episode 14: reward: -117.000, steps: 118\n",
      "Episode 15: reward: -108.000, steps: 109\n",
      "Episode 16: reward: -108.000, steps: 109\n",
      "Episode 17: reward: -75.000, steps: 76\n",
      "Episode 18: reward: -171.000, steps: 172\n",
      "Episode 19: reward: -93.000, steps: 94\n",
      "Episode 20: reward: -71.000, steps: 72\n",
      "Episode 21: reward: -103.000, steps: 104\n",
      "Episode 22: reward: -63.000, steps: 64\n",
      "Episode 23: reward: -109.000, steps: 110\n",
      "Episode 24: reward: -70.000, steps: 71\n",
      "Episode 25: reward: -81.000, steps: 82\n",
      "Episode 26: reward: -89.000, steps: 90\n",
      "Episode 27: reward: -94.000, steps: 95\n",
      "Episode 28: reward: -96.000, steps: 97\n",
      "Episode 29: reward: -75.000, steps: 76\n",
      "Episode 30: reward: -62.000, steps: 63\n",
      "Episode 31: reward: -92.000, steps: 93\n",
      "Episode 32: reward: -141.000, steps: 142\n",
      "Episode 33: reward: -80.000, steps: 81\n",
      "Episode 34: reward: -69.000, steps: 70\n",
      "Episode 35: reward: -85.000, steps: 86\n",
      "Episode 36: reward: -100.000, steps: 101\n",
      "Episode 37: reward: -88.000, steps: 89\n",
      "Episode 38: reward: -94.000, steps: 95\n",
      "Episode 39: reward: -86.000, steps: 87\n",
      "Episode 40: reward: -74.000, steps: 75\n",
      "Episode 41: reward: -105.000, steps: 106\n",
      "Episode 42: reward: -86.000, steps: 87\n",
      "Episode 43: reward: -115.000, steps: 116\n",
      "Episode 44: reward: -71.000, steps: 72\n",
      "Episode 45: reward: -195.000, steps: 196\n",
      "Episode 46: reward: -94.000, steps: 95\n",
      "Episode 47: reward: -88.000, steps: 89\n",
      "Episode 48: reward: -85.000, steps: 86\n",
      "Episode 49: reward: -109.000, steps: 110\n",
      "Episode 50: reward: -99.000, steps: 100\n",
      "Episode 51: reward: -142.000, steps: 143\n",
      "Episode 52: reward: -99.000, steps: 100\n",
      "Episode 53: reward: -93.000, steps: 94\n",
      "Episode 54: reward: -165.000, steps: 166\n",
      "Episode 55: reward: -94.000, steps: 95\n",
      "Episode 56: reward: -76.000, steps: 77\n",
      "Episode 57: reward: -85.000, steps: 86\n",
      "Episode 58: reward: -85.000, steps: 86\n",
      "Episode 59: reward: -296.000, steps: 297\n",
      "Episode 60: reward: -85.000, steps: 86\n",
      "Episode 61: reward: -95.000, steps: 96\n",
      "Episode 62: reward: -63.000, steps: 64\n",
      "Episode 63: reward: -86.000, steps: 87\n",
      "Episode 64: reward: -91.000, steps: 92\n",
      "Episode 65: reward: -93.000, steps: 94\n",
      "Episode 66: reward: -70.000, steps: 71\n",
      "Episode 67: reward: -70.000, steps: 71\n",
      "Episode 68: reward: -74.000, steps: 75\n",
      "Episode 69: reward: -96.000, steps: 97\n",
      "Episode 70: reward: -96.000, steps: 97\n",
      "Episode 71: reward: -70.000, steps: 71\n",
      "Episode 72: reward: -84.000, steps: 85\n",
      "Episode 73: reward: -84.000, steps: 85\n",
      "Episode 74: reward: -89.000, steps: 90\n",
      "Episode 75: reward: -87.000, steps: 88\n",
      "Episode 76: reward: -78.000, steps: 79\n",
      "Episode 77: reward: -87.000, steps: 88\n",
      "Episode 78: reward: -500.000, steps: 500\n",
      "Episode 79: reward: -84.000, steps: 85\n",
      "Episode 80: reward: -75.000, steps: 76\n",
      "Episode 81: reward: -196.000, steps: 197\n",
      "Episode 82: reward: -137.000, steps: 138\n",
      "Episode 83: reward: -102.000, steps: 103\n",
      "Episode 84: reward: -93.000, steps: 94\n",
      "Episode 85: reward: -75.000, steps: 76\n",
      "Episode 86: reward: -98.000, steps: 99\n",
      "Episode 87: reward: -75.000, steps: 76\n",
      "Episode 88: reward: -105.000, steps: 106\n",
      "Episode 89: reward: -101.000, steps: 102\n",
      "Episode 90: reward: -71.000, steps: 72\n",
      "Episode 91: reward: -63.000, steps: 64\n",
      "Episode 92: reward: -103.000, steps: 104\n",
      "Episode 93: reward: -83.000, steps: 84\n",
      "Episode 94: reward: -134.000, steps: 135\n",
      "Episode 95: reward: -71.000, steps: 72\n",
      "Episode 96: reward: -85.000, steps: 86\n",
      "Episode 97: reward: -70.000, steps: 71\n",
      "Episode 98: reward: -99.000, steps: 100\n",
      "Episode 99: reward: -71.000, steps: 72\n",
      "Episode 100: reward: -70.000, steps: 71\n",
      "-100.09\n"
     ]
    }
   ],
   "metadata": {}
  },
  {
   "cell_type": "code",
   "execution_count": 26,
   "source": [
    "_ = dqn.test(env, nb_episodes=10, visualize= True)"
   ],
   "outputs": [
    {
     "output_type": "stream",
     "name": "stdout",
     "text": [
      "Testing for 10 episodes ...\n",
      "Episode 1: reward: -101.000, steps: 102\n",
      "Episode 2: reward: -87.000, steps: 88\n",
      "Episode 3: reward: -69.000, steps: 70\n",
      "Episode 4: reward: -71.000, steps: 72\n",
      "Episode 5: reward: -83.000, steps: 84\n",
      "Episode 6: reward: -69.000, steps: 70\n",
      "Episode 7: reward: -85.000, steps: 86\n",
      "Episode 8: reward: -74.000, steps: 75\n",
      "Episode 9: reward: -100.000, steps: 101\n",
      "Episode 10: reward: -101.000, steps: 102\n"
     ]
    }
   ],
   "metadata": {}
  },
  {
   "cell_type": "code",
   "execution_count": 21,
   "source": [
    "import matplotlib.pyplot as plt\r\n",
    "fig = plt.figure()\r\n",
    "ax = fig.add_subplot(111)\r\n",
    "plt.plot(np.arange(len(scores.history['episode_reward'])), scores.history['episode_reward'])\r\n",
    "plt.ylabel('Score')\r\n",
    "plt.xlabel('Episode #')\r\n",
    "plt.show()"
   ],
   "outputs": [
    {
     "output_type": "display_data",
     "data": {
      "image/png": "[encoded data removed]",
      "text/plain": [
       "<Figure size 432x288 with 1 Axes>"
      ]
     },
     "metadata": {
      "needs_background": "light"
     }
    }
   ],
   "metadata": {}
  }
 ],
 "metadata": {
  "orig_nbformat": 4,
  "language_info": {
   "name": "python",
   "version": "3.8.6",
   "mimetype": "text/x-python",
   "codemirror_mode": {
    "name": "ipython",
    "version": 3
   },
   "pygments_lexer": "ipython3",
   "nbconvert_exporter": "python",
   "file_extension": ".py"
  },
  "kernelspec": {
   "name": "python3",
   "display_name": "Python 3.8.6 64-bit"
  },
  "interpreter": {
   "hash": "a0991f5fabed2c0caac03ea0b650bb07cf20daa332f509b85d6eb7a03138ea3d"
  }
 },
 "nbformat": 4,
 "nbformat_minor": 2
}